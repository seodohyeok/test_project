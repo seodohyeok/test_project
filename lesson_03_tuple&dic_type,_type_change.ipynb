{
  "cells": [
    {
      "cell_type": "markdown",
      "metadata": {
        "id": "view-in-github",
        "colab_type": "text"
      },
      "source": [
        "<a href=\"https://colab.research.google.com/github/seodohyeok/test_project/blob/main/lesson_03_tuple%26dic_type%2C_type_change.ipynb\" target=\"_parent\"><img src=\"https://colab.research.google.com/assets/colab-badge.svg\" alt=\"Open In Colab\"/></a>"
      ]
    },
    {
      "cell_type": "markdown",
      "metadata": {
        "id": "cCOOOfI6j2bE"
      },
      "source": [
        "### Tuple Function\n",
        "    list보다 같은 데이터를 가졌을 때 공간을 적게 사용"
      ]
    },
    {
      "cell_type": "code",
      "execution_count": null,
      "metadata": {
        "id": "EQ9-aEB8j2bI"
      },
      "outputs": [],
      "source": [
        "# blank"
      ]
    },
    {
      "cell_type": "code",
      "execution_count": null,
      "metadata": {
        "id": "qG08grXUj2bJ"
      },
      "outputs": [],
      "source": [
        "# blank"
      ]
    },
    {
      "cell_type": "markdown",
      "metadata": {
        "id": "WbzpX4Sqj2bK"
      },
      "source": [
        "#### list와 마찬가지로 offset index 사용 가능"
      ]
    },
    {
      "cell_type": "code",
      "execution_count": null,
      "metadata": {
        "id": "ySNMfXqOj2bK"
      },
      "outputs": [],
      "source": [
        "# blank"
      ]
    },
    {
      "cell_type": "markdown",
      "metadata": {
        "id": "4T34IxLfj2bL"
      },
      "source": [
        "#### list와 tuple의 저장공간 비교"
      ]
    },
    {
      "cell_type": "code",
      "execution_count": null,
      "metadata": {
        "id": "antsMB4Oj2bL"
      },
      "outputs": [],
      "source": [
        "# blank"
      ]
    },
    {
      "cell_type": "markdown",
      "metadata": {
        "id": "NYH3itGuj2bM"
      },
      "source": [
        "#### tuple 활용\n",
        "    절대로 변경이 되어선 안되는 데이터를 작성하는 경우"
      ]
    },
    {
      "cell_type": "code",
      "execution_count": null,
      "metadata": {
        "id": "OhmJtql8j2bM"
      },
      "outputs": [],
      "source": [
        "# blank"
      ]
    },
    {
      "cell_type": "markdown",
      "source": [
        "### Dictionary(dict)\n",
        "    순서가 없고 {키:값}으로 구성되어 있는 데이터 타입"
      ],
      "metadata": {
        "id": "MMNuiLKMkRhp"
      }
    },
    {
      "cell_type": "code",
      "execution_count": null,
      "metadata": {
        "id": "tG2RU8BJj2bM"
      },
      "outputs": [],
      "source": [
        "# blank"
      ]
    },
    {
      "cell_type": "code",
      "execution_count": null,
      "metadata": {
        "id": "eGodFMlqj2bM"
      },
      "outputs": [],
      "source": [
        "# blank"
      ]
    },
    {
      "cell_type": "markdown",
      "source": [
        "#### dict 출력방법\n",
        "    dict[key값]"
      ],
      "metadata": {
        "id": "USdIb8YwkVZh"
      }
    },
    {
      "cell_type": "code",
      "execution_count": null,
      "metadata": {
        "id": "AK38Gno7j2bN"
      },
      "outputs": [],
      "source": [
        "# blank"
      ]
    },
    {
      "cell_type": "code",
      "source": [
        "# blank"
      ],
      "metadata": {
        "id": "KmRhgti6kXXp"
      },
      "execution_count": null,
      "outputs": []
    },
    {
      "cell_type": "markdown",
      "source": [
        "#### dict형 데이터 타입 key, value값 확인\n",
        "    keys() : key값을 확인\n",
        "    values() : value값을 확인\n",
        "        각각 리스트 타입으로 출력\n",
        "    items() : key, value의 쌍으로 출력\n",
        "        쌍을 이루고 수정이 불가능하므로 튜플 타입으로 출력\n",
        "        \n",
        "    ※ 주의 : 출력이 각각 list, tuple 타입으로 나타나지만 본래 데이터는 dict 타입이므로 순서가 없음\n",
        "            즉, offset index를 사용할 수 없다!"
      ],
      "metadata": {
        "id": "stLmThIokYsy"
      }
    },
    {
      "cell_type": "code",
      "source": [
        "# blank"
      ],
      "metadata": {
        "id": "rlpx8Go9kbVZ"
      },
      "execution_count": null,
      "outputs": []
    },
    {
      "cell_type": "code",
      "source": [
        "# blank"
      ],
      "metadata": {
        "id": "y6IiaawSkcUV"
      },
      "execution_count": null,
      "outputs": []
    },
    {
      "cell_type": "code",
      "source": [
        "# blank"
      ],
      "metadata": {
        "id": "P3bYtRULkdsR"
      },
      "execution_count": null,
      "outputs": []
    },
    {
      "cell_type": "markdown",
      "source": [
        "### length 구하기\n",
        "    문자열, list, tuple, dict 타입의 경우 데이터의 길이(혹은 갯수)를 셀 수 있음\n",
        "```python\n",
        "len(구하고자 하는 데이터타입)\n",
        "```"
      ],
      "metadata": {
        "id": "g_14zkJQkf7a"
      }
    },
    {
      "cell_type": "code",
      "source": [
        "# blank"
      ],
      "metadata": {
        "id": "wAS9O_TbkeYh"
      },
      "execution_count": null,
      "outputs": []
    },
    {
      "cell_type": "code",
      "source": [
        "# blank"
      ],
      "metadata": {
        "id": "3-EIQCTMkh5x"
      },
      "execution_count": null,
      "outputs": []
    },
    {
      "cell_type": "code",
      "source": [
        "# blank"
      ],
      "metadata": {
        "id": "-vtRY7dxkh2h"
      },
      "execution_count": null,
      "outputs": []
    },
    {
      "cell_type": "code",
      "source": [
        "# blank"
      ],
      "metadata": {
        "id": "6GG3IGfzkhz5"
      },
      "execution_count": null,
      "outputs": []
    },
    {
      "cell_type": "code",
      "source": [
        "# blank"
      ],
      "metadata": {
        "id": "Bup_hL5UkkgJ"
      },
      "execution_count": null,
      "outputs": []
    },
    {
      "cell_type": "markdown",
      "source": [
        "### Type change\n",
        "    - 데이터 타입을 변환하는 방법\n",
        "    - 형태의 종류\n",
        "        int, float, bool, str, list, tuple, dict"
      ],
      "metadata": {
        "id": "EJtPSUhnkmo6"
      }
    },
    {
      "cell_type": "code",
      "source": [
        "# blank"
      ],
      "metadata": {
        "id": "n_fH08Vjkonx"
      },
      "execution_count": null,
      "outputs": []
    },
    {
      "cell_type": "code",
      "source": [
        "# blank"
      ],
      "metadata": {
        "id": "-GvdXtldkpxJ"
      },
      "execution_count": null,
      "outputs": []
    },
    {
      "cell_type": "code",
      "source": [
        "# blank"
      ],
      "metadata": {
        "id": "C6oc37pJkqlJ"
      },
      "execution_count": null,
      "outputs": []
    },
    {
      "cell_type": "code",
      "source": [
        "# blank"
      ],
      "metadata": {
        "id": "2MEkLrR1krXB"
      },
      "execution_count": null,
      "outputs": []
    },
    {
      "cell_type": "markdown",
      "source": [
        "#### list -> dict로 만들기\n",
        "    zip : 같은 index끼리 묶어주는 함수"
      ],
      "metadata": {
        "id": "A2_eOW6-kw4U"
      }
    },
    {
      "cell_type": "code",
      "source": [
        "# blank"
      ],
      "metadata": {
        "id": "iAbnwtWbkweT"
      },
      "execution_count": null,
      "outputs": []
    },
    {
      "cell_type": "code",
      "source": [
        "# blank"
      ],
      "metadata": {
        "id": "LFrDjRmrkyyZ"
      },
      "execution_count": null,
      "outputs": []
    }
  ],
  "metadata": {
    "kernelspec": {
      "display_name": "Python 3",
      "language": "python",
      "name": "python3"
    },
    "language_info": {
      "codemirror_mode": {
        "name": "ipython",
        "version": 3
      },
      "file_extension": ".py",
      "mimetype": "text/x-python",
      "name": "python",
      "nbconvert_exporter": "python",
      "pygments_lexer": "ipython3",
      "version": "3.8.5"
    },
    "toc": {
      "base_numbering": 1,
      "nav_menu": {},
      "number_sections": true,
      "sideBar": true,
      "skip_h1_title": false,
      "title_cell": "Table of Contents",
      "title_sidebar": "Contents",
      "toc_cell": false,
      "toc_position": {},
      "toc_section_display": true,
      "toc_window_display": false
    },
    "colab": {
      "name": "lesson 03. tuple&dic type, type change.ipynb",
      "provenance": [],
      "collapsed_sections": [],
      "include_colab_link": true
    }
  },
  "nbformat": 4,
  "nbformat_minor": 0
}